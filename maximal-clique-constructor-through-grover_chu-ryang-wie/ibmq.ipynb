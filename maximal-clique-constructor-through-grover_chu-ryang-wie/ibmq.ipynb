{
 "cells": [
  {
   "cell_type": "code",
   "execution_count": 138,
   "metadata": {},
   "outputs": [],
   "source": [
    "# A Quantum Circuit to Construct All Maximal Cliques Using Grover’s Search Algorithm\n",
    "\n",
    "## Chu Ryang Wie\n",
    "\n",
    "### DOI: https://arxiv.org/abs/1711.06146v2"
   ]
  },
  {
   "cell_type": "code",
   "execution_count": 1,
   "metadata": {},
   "outputs": [],
   "source": [
    "import matplotlib\n",
    "#matplotlib.use('Agg')\n",
    "import matplotlib.pyplot as plt\n",
    "from qiskit import *\n",
    "# IBMQ.load_account()\n",
    "from qiskit.visualization import *"
   ]
  },
  {
   "cell_type": "code",
   "execution_count": 2,
   "metadata": {},
   "outputs": [],
   "source": [
    "n = 3 # size of network\n",
    "psi  = QuantumRegister(n, name='psi') # cliques states\n",
    "data = QuantumRegister(n**2, name='data') # data A+I states\n",
    "ancl = QuantumRegister(n**2, name='ancl') # ancilla states\n",
    "cpsi = ClassicalRegister(n, name='cpsi') # classical register for measurement\n",
    "cdata = ClassicalRegister(n**2, name='cdata') # classical register for measurement\n",
    "cancl = ClassicalRegister(n**2, name='cancl') # classical register for measurement\n",
    "\n",
    "#extra_ancl = QuantumRegister(n**2, name='extra_ancl')\n",
    "qc   = QuantumCircuit(psi, data, ancl, cpsi, cdata, cancl, name='maximal cliques')"
   ]
  },
  {
   "cell_type": "code",
   "execution_count": 3,
   "metadata": {},
   "outputs": [],
   "source": [
    "import numpy as np\n",
    "A = np.array([ # creating adjacency matrix\n",
    "    [0,1,0],\n",
    "    [1,0,1],\n",
    "    [0,1,0]\n",
    "], dtype=np.int)\n",
    "\n",
    "AI = A+ np.eye(n, dtype=np.int)\n"
   ]
  },
  {
   "cell_type": "code",
   "execution_count": 4,
   "metadata": {},
   "outputs": [],
   "source": [
    "# setting network structure on data qubits\n",
    "for ij, cij in enumerate(AI.flatten()):\n",
    "    if cij:\n",
    "        qc.x(data[ij])"
   ]
  },
  {
   "cell_type": "code",
   "execution_count": 5,
   "metadata": {},
   "outputs": [],
   "source": [
    "# putting cliques on uniform superposition\n",
    "for j in range(n):\n",
    "    qc.h(psi[j])"
   ]
  },
  {
   "cell_type": "code",
   "execution_count": 6,
   "metadata": {},
   "outputs": [],
   "source": [
    "def V():\n",
    "    for j in range(n):\n",
    "        for i in range(n):\n",
    "            # applying 'intersect operator' as defined in paper\n",
    "            qc.barrier()\n",
    "            # standard toffoli\n",
    "            qc.ccx(psi[j], data[j*n+i], ancl[j*n+i])\n",
    "            \n",
    "            # toffoli variant - 1st ctrl qbit works when 0\n",
    "            qc.x(psi[j])\n",
    "            qc.ccx(psi[j], data[j*n+i], ancl[j*n+i])\n",
    "            \n",
    "            # toffoli variant - 1st & 2nd ctrl qbit work when 0\n",
    "            qc.x(data[j*n+i])\n",
    "            qc.ccx(psi[j], data[j*n+i], ancl[j*n+i])\n",
    "            \n",
    "            # undoing NOT operations\n",
    "            qc.x(psi[j])\n",
    "            qc.x(data[j*n+i])\n",
    "\n",
    "def W():\n",
    "    for j in range(n):\n",
    "        # trying to use multi-controlled toffoli gate available in qiskit (not sure if it works)\n",
    "        #qc.mct(ancl[j::n], psi[j], extra_ancl)\n",
    "        #QuantumCircuit.mct(q_controls, q_target, q_ancilla, mode='basic')\n",
    "        qc.barrier()\n",
    "        qc.mct(ancl[j::n], psi[j], None, mode='noancilla')\n",
    "\n",
    "def flip_ket_0():\n",
    "    for j in range(n):\n",
    "        qc.x(psi[j])\n",
    "    qc.h(psi[n-1])\n",
    "    qc.barrier()\n",
    "    qc.mct(psi[:-1], psi[-1], None, mode='noancilla')\n",
    "    qc.barrier()\n",
    "    qc.h(psi[n-1])\n",
    "    for j in range(n):\n",
    "        qc.x(psi[j])\n",
    "\n",
    "def O():\n",
    "    qc.barrier()\n",
    "    V()\n",
    "    qc.barrier()\n",
    "    W()\n",
    "    qc.barrier()\n",
    "    flip_ket_0()\n",
    "    qc.barrier()\n",
    "    W()\n",
    "    qc.barrier()\n",
    "    V()\n"
   ]
  },
  {
   "cell_type": "code",
   "execution_count": 7,
   "metadata": {},
   "outputs": [],
   "source": [
    "def G():\n",
    "    qc.barrier()\n",
    "    for j in range(n):\n",
    "        qc.h(psi[j])\n",
    "    qc.barrier()\n",
    "    for j in range(n):\n",
    "        qc.x(psi[j])\n",
    "    \n",
    "    qc.barrier()\n",
    "    qc.h(psi[-1])\n",
    "    \n",
    "    qc.barrier()\n",
    "    qc.mct(psi[:-1],psi[-1],None,mode='noancilla')\n",
    "    \n",
    "    qc.barrier()\n",
    "    qc.h(psi[-1])\n",
    "    \n",
    "    qc.barrier()\n",
    "    for j in range(n):\n",
    "        qc.x(psi[j])\n",
    "    qc.barrier()\n",
    "    for j in range(n):\n",
    "        qc.h(psi[j])"
   ]
  },
  {
   "cell_type": "code",
   "execution_count": 8,
   "metadata": {
    "scrolled": true
   },
   "outputs": [],
   "source": [
    "O()\n",
    "G()"
   ]
  },
  {
   "cell_type": "code",
   "execution_count": null,
   "metadata": {},
   "outputs": [],
   "source": []
  },
  {
   "cell_type": "code",
   "execution_count": 9,
   "metadata": {},
   "outputs": [
    {
     "data": {
      "text/plain": [
       "<qiskit.circuit.instructionset.InstructionSet at 0x7f5641c230a0>"
      ]
     },
     "execution_count": 9,
     "metadata": {},
     "output_type": "execute_result"
    }
   ],
   "source": [
    "qc.barrier()\n",
    "qc.measure(psi, cpsi)\n",
    "qc.measure(data, cdata)\n",
    "qc.measure(ancl, cancl)"
   ]
  },
  {
   "cell_type": "code",
   "execution_count": 10,
   "metadata": {},
   "outputs": [],
   "source": [
    "fig = circuit_drawer(qc, output='mpl', filename='circuit.pdf', fold=300)\n",
    "#fig"
   ]
  },
  {
   "cell_type": "code",
   "execution_count": 11,
   "metadata": {},
   "outputs": [
    {
     "name": "stdout",
     "output_type": "stream",
     "text": [
      "Result(backend_name='qasm_simulator', backend_version='0.4.0', date=datetime.datetime(2020, 3, 8, 20, 4, 21, 920986), header=Obj(backend_name='qasm_simulator', backend_version='0.4.0'), job_id='0ba36d7a-c151-4f5e-bbc9-8198418d46db', metadata={'max_memory_mb': 3935, 'omp_enabled': True, 'parallel_experiments': 1, 'time_taken': 0.850391086}, qobj_id='c1d3e096-b35d-4458-a3e1-febc21a53d4d', results=[ExperimentResult(data=ExperimentResultData(counts=Obj(0xddb=2075, 0xdde=2021)), header=Obj(clbit_labels=[['cpsi', 0], ['cpsi', 1], ['cpsi', 2], ['cdata', 0], ['cdata', 1], ['cdata', 2], ['cdata', 3], ['cdata', 4], ['cdata', 5], ['cdata', 6], ['cdata', 7], ['cdata', 8], ['cancl', 0], ['cancl', 1], ['cancl', 2], ['cancl', 3], ['cancl', 4], ['cancl', 5], ['cancl', 6], ['cancl', 7], ['cancl', 8]], creg_sizes=[['cpsi', 3], ['cdata', 9], ['cancl', 9]], memory_slots=21, n_qubits=21, name='maximal cliques', qreg_sizes=[['psi', 3], ['data', 9], ['ancl', 9]], qubit_labels=[['psi', 0], ['psi', 1], ['psi', 2], ['data', 0], ['data', 1], ['data', 2], ['data', 3], ['data', 4], ['data', 5], ['data', 6], ['data', 7], ['data', 8], ['ancl', 0], ['ancl', 1], ['ancl', 2], ['ancl', 3], ['ancl', 4], ['ancl', 5], ['ancl', 6], ['ancl', 7], ['ancl', 8]]), meas_level=<MeasLevel.CLASSIFIED: 2>, metadata={'measure_sampling': True, 'method': 'statevector', 'parallel_shots': 1, 'parallel_state_update': 4}, seed_simulator=3262942586, shots=4096, status='DONE', success=True, time_taken=0.826886109)], status='COMPLETED', success=True, time_taken=1.0270531177520752)\n",
      "{'000000000 110111011 011': 2075, '000000000 110111011 110': 2021}\n"
     ]
    }
   ],
   "source": [
    "res = execute(qc, Aer.get_backend('qasm_simulator'), shots=4096).result()\n",
    "print(res)\n",
    "print(res.get_counts())"
   ]
  },
  {
   "cell_type": "code",
   "execution_count": 12,
   "metadata": {},
   "outputs": [
    {
     "data": {
      "image/png": "[encoded data removed]",
      "text/plain": [
       "<Figure size 504x360 with 1 Axes>"
      ]
     },
     "execution_count": 12,
     "metadata": {},
     "output_type": "execute_result"
    }
   ],
   "source": [
    "plot_histogram(res.get_counts())"
   ]
  },
  {
   "cell_type": "code",
   "execution_count": null,
   "metadata": {},
   "outputs": [],
   "source": []
  },
  {
   "cell_type": "code",
   "execution_count": null,
   "metadata": {},
   "outputs": [],
   "source": []
  },
  {
   "cell_type": "code",
   "execution_count": 38,
   "metadata": {
    "scrolled": false
   },
   "outputs": [
    {
     "name": "stderr",
     "output_type": "stream",
     "text": [
      "Credentials are already in use. The existing account in the session will be replaced.\n"
     ]
    },
    {
     "data": {
      "image/png": "[encoded data removed]",
      "text/plain": [
       "<Figure size 504x360 with 1 Axes>"
      ]
     },
     "execution_count": 38,
     "metadata": {},
     "output_type": "execute_result"
    }
   ],
   "source": [
    "# Running on IBMQ Experience\n",
    "\n",
    "# saving account credentials first\n",
    "#IBMQ.save_account('MY_TOKEN_ID')\n",
    "\n",
    "# loading IBMQ session\n",
    "provider = IBMQ.load_account()\n",
    "backend = provider.backends(simulator=True,operational=True)[0]\n",
    "res = execute(qc, backend, shots=8192).result()\n",
    "plot_histogram(res.get_counts())"
   ]
  },
  {
   "cell_type": "code",
   "execution_count": null,
   "metadata": {},
   "outputs": [],
   "source": []
  },
  {
   "cell_type": "code",
   "execution_count": null,
   "metadata": {},
   "outputs": [],
   "source": [
    "# TODO: create circuit for n=2 network and test it on melbourne qpu."
   ]
  }
 ],
 "metadata": {
  "kernelspec": {
   "display_name": "Python 3",
   "language": "python",
   "name": "python3"
  },
  "language_info": {
   "codemirror_mode": {
    "name": "ipython",
    "version": 3
   },
   "file_extension": ".py",
   "mimetype": "text/x-python",
   "name": "python",
   "nbconvert_exporter": "python",
   "pygments_lexer": "ipython3",
   "version": "3.8.1"
  }
 },
 "nbformat": 4,
 "nbformat_minor": 4
}

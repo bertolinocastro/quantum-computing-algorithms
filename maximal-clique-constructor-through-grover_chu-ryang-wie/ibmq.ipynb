{
 "cells": [
  {
   "cell_type": "code",
   "execution_count": 138,
   "metadata": {},
   "outputs": [],
   "source": [
    "# A Quantum Circuit to Construct All Maximal Cliques Using Grover’s Search Algorithm\n",
    "\n",
    "## Chu Ryang Wie\n",
    "\n",
    "### DOI: https://arxiv.org/abs/1711.06146v2"
   ]
  },
  {
   "cell_type": "code",
   "execution_count": 139,
   "metadata": {},
   "outputs": [],
   "source": [
    "import matplotlib\n",
    "#matplotlib.use('Agg')\n",
    "import matplotlib.pyplot as plt\n",
    "from qiskit import *\n",
    "# IBMQ.load_account()\n",
    "from qiskit.visualization import *"
   ]
  },
  {
   "cell_type": "code",
   "execution_count": 140,
   "metadata": {},
   "outputs": [],
   "source": [
    "n = 3 # size of network\n",
    "psi  = QuantumRegister(n, name='psi') # cliques states\n",
    "data = QuantumRegister(n**2, name='data') # data A+I states\n",
    "ancl = QuantumRegister(n**2, name='ancl') # ancilla states\n",
    "cpsi = ClassicalRegister(n, name='cpsi') # classical register for measurement\n",
    "cdata = ClassicalRegister(n**2, name='cdata') # classical register for measurement\n",
    "cancl = ClassicalRegister(n**2, name='cancl') # classical register for measurement\n",
    "\n",
    "#extra_ancl = QuantumRegister(n**2, name='extra_ancl')\n",
    "qc   = QuantumCircuit(psi, data, ancl, cpsi, cdata, cancl, name='maximal cliques')"
   ]
  },
  {
   "cell_type": "code",
   "execution_count": 141,
   "metadata": {},
   "outputs": [],
   "source": [
    "import numpy as np\n",
    "A = np.array([ # creating adjacency matrix\n",
    "    [0,1,0],\n",
    "    [1,0,1],\n",
    "    [0,1,0]\n",
    "], dtype=np.int)\n",
    "\n",
    "AI = A+ np.eye(n, dtype=np.int)\n"
   ]
  },
  {
   "cell_type": "code",
   "execution_count": 142,
   "metadata": {},
   "outputs": [],
   "source": [
    "# setting network structure on data qubits\n",
    "for ij, cij in enumerate(AI.flatten()):\n",
    "    if cij:\n",
    "        qc.x(data[ij])"
   ]
  },
  {
   "cell_type": "code",
   "execution_count": 143,
   "metadata": {},
   "outputs": [],
   "source": [
    "# putting cliques on uniform superposition\n",
    "for j in range(n):\n",
    "    qc.h(psi[j])"
   ]
  },
  {
   "cell_type": "code",
   "execution_count": 144,
   "metadata": {},
   "outputs": [],
   "source": [
    "def V():\n",
    "    for j in range(n):\n",
    "        for i in range(n):\n",
    "            # applying 'intersect operator' as defined in paper\n",
    "            qc.barrier()\n",
    "            # standard toffoli\n",
    "            qc.ccx(psi[j], data[j*n+i], ancl[j*n+i])\n",
    "            \n",
    "            # toffoli variant - 1st ctrl qbit works when 0\n",
    "            qc.x(psi[j])\n",
    "            qc.ccx(psi[j], data[j*n+i], ancl[j*n+i])\n",
    "            \n",
    "            # toffoli variant - 1st & 2nd ctrl qbit work when 0\n",
    "            qc.x(data[j*n+i])\n",
    "            qc.ccx(psi[j], data[j*n+i], ancl[j*n+i])\n",
    "            \n",
    "            # undoing NOT operations\n",
    "            qc.x(psi[j])\n",
    "            qc.x(data[j*n+i])\n",
    "\n",
    "def W():\n",
    "    for j in range(n):\n",
    "        # trying to use multi-controlled toffoli gate available in qiskit (not sure if it works)\n",
    "        #qc.mct(ancl[j::n], psi[j], extra_ancl)\n",
    "        #QuantumCircuit.mct(q_controls, q_target, q_ancilla, mode='basic')\n",
    "        qc.barrier()\n",
    "        qc.mct(ancl[j::n], psi[j], None, mode='noancilla')\n",
    "\n",
    "def flip_ket_0():\n",
    "    for j in range(n):\n",
    "        qc.x(psi[j])\n",
    "    qc.h(psi[n-1])\n",
    "    qc.barrier()\n",
    "    qc.mct(psi[:-1], psi[-1], None, mode='noancilla')\n",
    "    qc.barrier()\n",
    "    qc.h(psi[n-1])\n",
    "    for j in range(n):\n",
    "        qc.x(psi[j])\n",
    "\n",
    "def O():\n",
    "    qc.barrier()\n",
    "    V()\n",
    "    qc.barrier()\n",
    "    W()\n",
    "    qc.barrier()\n",
    "    flip_ket_0()\n",
    "    qc.barrier()\n",
    "    W()\n",
    "    qc.barrier()\n",
    "    V()\n"
   ]
  },
  {
   "cell_type": "code",
   "execution_count": 145,
   "metadata": {
    "scrolled": true
   },
   "outputs": [],
   "source": [
    "O()"
   ]
  },
  {
   "cell_type": "code",
   "execution_count": 146,
   "metadata": {},
   "outputs": [
    {
     "data": {
      "text/plain": [
       "<qiskit.circuit.instructionset.InstructionSet at 0x7fb1e2dbed30>"
      ]
     },
     "execution_count": 146,
     "metadata": {},
     "output_type": "execute_result"
    }
   ],
   "source": [
    "qc.barrier()\n",
    "qc.measure(psi, cpsi)\n",
    "qc.measure(data, cdata)\n",
    "qc.measure(ancl, cancl)"
   ]
  },
  {
   "cell_type": "code",
   "execution_count": null,
   "metadata": {},
   "outputs": [],
   "source": [
    "fig = circuit_drawer(qc, output='mpl', filename='circuit.pdf', fold=300)\n",
    "#fig"
   ]
  },
  {
   "cell_type": "code",
   "execution_count": null,
   "metadata": {},
   "outputs": [],
   "source": [
    "res = execute(qc, Aer.get_backend('qasm_simulator'), shots=256).result()\n",
    "print(res)\n",
    "print(res.get_counts())"
   ]
  },
  {
   "cell_type": "code",
   "execution_count": null,
   "metadata": {},
   "outputs": [],
   "source": [
    "plot_histogram(res.get_counts())"
   ]
  },
  {
   "cell_type": "code",
   "execution_count": null,
   "metadata": {},
   "outputs": [],
   "source": []
  },
  {
   "cell_type": "code",
   "execution_count": null,
   "metadata": {},
   "outputs": [],
   "source": []
  },
  {
   "cell_type": "code",
   "execution_count": null,
   "metadata": {},
   "outputs": [],
   "source": []
  },
  {
   "cell_type": "code",
   "execution_count": null,
   "metadata": {},
   "outputs": [],
   "source": []
  },
  {
   "cell_type": "code",
   "execution_count": null,
   "metadata": {},
   "outputs": [],
   "source": []
  },
  {
   "cell_type": "code",
   "execution_count": null,
   "metadata": {},
   "outputs": [],
   "source": []
  },
  {
   "cell_type": "code",
   "execution_count": 45,
   "metadata": {},
   "outputs": [
    {
     "name": "stdout",
     "output_type": "stream",
     "text": [
      "                  ░ ┌───┐┌───┐┌───┐┌─┐\n",
      "qubit_0: |0>──────░─┤ H ├┤ X ├┤ H ├┤M├\n",
      "            ┌───┐ ░ ├───┤└─┬─┘└───┘└╥┘\n",
      "qubit_1: |0>┤ X ├─░─┤ H ├──■────────╫─\n",
      "            └───┘ ░ └───┘           ║ \n",
      "   bit_0: 0 ════════════════════════╩═\n",
      "                                      \n",
      "   bit_1: 0 ══════════════════════════\n",
      "                                      \n",
      "Result(backend_name='qasm_simulator', backend_version='0.4.0', date=datetime.datetime(2020, 3, 4, 23, 36, 58, 7053), header=Obj(backend_name='qasm_simulator', backend_version='0.4.0'), job_id='8ae86da0-da3f-4006-aa9d-8250b12771fa', metadata={'max_memory_mb': 3935, 'omp_enabled': True, 'parallel_experiments': 1, 'time_taken': 0.0007033990000000001}, qobj_id='19d1f3a3-0aa6-42a8-b549-fe7ce1306ca4', results=[ExperimentResult(data=ExperimentResultData(counts=Obj(0x0=128)), header=Obj(clbit_labels=[['bit', 0], ['bit', 1]], creg_sizes=[['bit', 2]], memory_slots=2, n_qubits=2, name='circuit', qreg_sizes=[['qubit', 2]], qubit_labels=[['qubit', 0], ['qubit', 1]]), meas_level=<MeasLevel.CLASSIFIED: 2>, metadata={'measure_sampling': True, 'method': 'stabilizer', 'parallel_shots': 1, 'parallel_state_update': 4}, seed_simulator=2077491539, shots=128, status='DONE', success=True, time_taken=0.0005984940000000001)], status='COMPLETED', success=True, time_taken=0.01307988166809082)\n",
      "{'00': 128}\n"
     ]
    }
   ],
   "source": [
    "qb = QuantumRegister(2, name='qubit') # creating quantum bits\n",
    "cb = ClassicalRegister(2, name='bit') # creating classical bits\n",
    "qc = QuantumCircuit(qb, cb, name='circuit') # creating a quantum circuit with those bits\n",
    "\n",
    "# all qubits start at |0> state\n",
    "qc.x(qb[1]) # putting 2nd qubit in |1> state\n",
    "qc.barrier()\n",
    "qc.h(qb) # applying Hadamard on all qubits\n",
    "\n",
    "qc.cx(qb[1], qb[0]) # oracle (as it's a CNOT, we're making an entanglement)\n",
    "\n",
    "qc.h(qb[0]) # applying Hadamard on 1st qubit again\n",
    "qc.measure(qb[0],cb[0])\n",
    "\n",
    "print(qc)\n",
    "\n",
    "res = execute(qc, Aer.get_backend('qasm_simulator'), shots=128).result()\n",
    "\n",
    "print(res)\n",
    "print(res.get_counts())"
   ]
  },
  {
   "cell_type": "code",
   "execution_count": 12,
   "metadata": {
    "collapsed": true
   },
   "outputs": [
    {
     "data": {
      "image/png": "[encoded data removed]",
      "text/plain": [
       "<Figure size 504x360 with 1 Axes>"
      ]
     },
     "metadata": {
      "needs_background": "light"
     },
     "output_type": "display_data"
    }
   ],
   "source": [
    "from qiskit.visualization import *\n",
    "\n",
    "fig = plot_histogram([res.get_counts(qc)], bar_labels=True)\n",
    "#fig.savefig('teste.png')"
   ]
  },
  {
   "cell_type": "code",
   "execution_count": null,
   "metadata": {},
   "outputs": [],
   "source": []
  }
 ],
 "metadata": {
  "kernelspec": {
   "display_name": "Python 3",
   "language": "python",
   "name": "python3"
  },
  "language_info": {
   "codemirror_mode": {
    "name": "ipython",
    "version": 3
   },
   "file_extension": ".py",
   "mimetype": "text/x-python",
   "name": "python",
   "nbconvert_exporter": "python",
   "pygments_lexer": "ipython3",
   "version": "3.8.1"
  }
 },
 "nbformat": 4,
 "nbformat_minor": 4
}

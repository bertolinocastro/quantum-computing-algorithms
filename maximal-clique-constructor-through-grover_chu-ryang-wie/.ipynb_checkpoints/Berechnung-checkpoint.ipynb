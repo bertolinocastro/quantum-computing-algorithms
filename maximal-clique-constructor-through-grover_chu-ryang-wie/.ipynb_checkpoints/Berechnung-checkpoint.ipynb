{
 "cells": [
  {
   "cell_type": "code",
   "execution_count": 1,
   "metadata": {},
   "outputs": [],
   "source": [
    "# A Quantum Circuit to Construct All Maximal Cliques Using Grover’s Search Algorithm\n",
    "\n",
    "## Chu Ryang Wie\n",
    "\n",
    "### DOI: https://arxiv.org/abs/1711.06146v2"
   ]
  },
  {
   "cell_type": "code",
   "execution_count": 2,
   "metadata": {},
   "outputs": [],
   "source": [
    "from sympy import *\n",
    "#import sympy.physics.quantum as qp # quantum physics\n",
    "from sympy.physics.quantum.qubit import *\n",
    "from sympy.physics.quantum import Dagger\n",
    "from sympy.physics.quantum.gate import *\n",
    "from sympy.physics.quantum.qapply import *"
   ]
  },
  {
   "cell_type": "code",
   "execution_count": 3,
   "metadata": {},
   "outputs": [],
   "source": [
    "N = Symbol('N', integer=True)\n",
    "#N = 8"
   ]
  },
  {
   "cell_type": "code",
   "execution_count": 4,
   "metadata": {},
   "outputs": [],
   "source": [
    "# base network G:\n",
    "# 1 <-> 2 <-> 3\n",
    "# Nodes: 1, 2, 3\n",
    "# Edges: (1,2), (2,3)\n",
    "\n",
    "# Adjacency matrix for network G\n",
    "A = Matrix([\n",
    "\t[0, 1, 0],\n",
    "\t[1, 0, 1],\n",
    "\t[0, 1, 0]\n",
    "])"
   ]
  },
  {
   "cell_type": "code",
   "execution_count": 5,
   "metadata": {},
   "outputs": [
    {
     "data": {
      "text/plain": [
       "[|000>, |001>, |010>, |011>, |100>, |101>, |110>, |111>]"
      ]
     },
     "execution_count": 5,
     "metadata": {},
     "output_type": "execute_result"
    }
   ],
   "source": [
    "# creating qubits for n=3 basis\n",
    "q = [Qubit(f'{dummy:03b}') for dummy in range(2**3)]\n",
    "q"
   ]
  },
  {
   "cell_type": "code",
   "execution_count": 6,
   "metadata": {},
   "outputs": [],
   "source": [
    "# creating psi state vector\n",
    "kpsi = 1/sqrt(N)*sum(q)\n",
    "bpsi = 1/sqrt(N)*Dagger(sum(q))"
   ]
  },
  {
   "cell_type": "code",
   "execution_count": null,
   "metadata": {},
   "outputs": [],
   "source": [
    "# TODO: create in terms of matrices the O operator perfectly as the circuit described in the paper\n",
    "O = "
   ]
  },
  {
   "cell_type": "code",
   "execution_count": 7,
   "metadata": {},
   "outputs": [],
   "source": [
    "# step: constructing the U operator basics using a network with n=3\n",
    "# function to represent qubit as matrix: qubit_to_matrix()"
   ]
  },
  {
   "cell_type": "code",
   "execution_count": 8,
   "metadata": {
    "collapsed": true
   },
   "outputs": [
    {
     "data": {
      "text/latex": [
       "$\\displaystyle \\left[\\begin{matrix}-1 + \\frac{2}{N} & \\frac{2}{N} & \\frac{2}{N} & \\frac{2}{N} & \\frac{2}{N} & \\frac{2}{N} & \\frac{2}{N} & \\frac{2}{N}\\\\\\frac{2}{N} & -1 + \\frac{2}{N} & \\frac{2}{N} & \\frac{2}{N} & \\frac{2}{N} & \\frac{2}{N} & \\frac{2}{N} & \\frac{2}{N}\\\\\\frac{2}{N} & \\frac{2}{N} & -1 + \\frac{2}{N} & \\frac{2}{N} & \\frac{2}{N} & \\frac{2}{N} & \\frac{2}{N} & \\frac{2}{N}\\\\\\frac{2}{N} & \\frac{2}{N} & \\frac{2}{N} & -1 + \\frac{2}{N} & \\frac{2}{N} & \\frac{2}{N} & \\frac{2}{N} & \\frac{2}{N}\\\\\\frac{2}{N} & \\frac{2}{N} & \\frac{2}{N} & \\frac{2}{N} & -1 + \\frac{2}{N} & \\frac{2}{N} & \\frac{2}{N} & \\frac{2}{N}\\\\\\frac{2}{N} & \\frac{2}{N} & \\frac{2}{N} & \\frac{2}{N} & \\frac{2}{N} & -1 + \\frac{2}{N} & \\frac{2}{N} & \\frac{2}{N}\\\\\\frac{2}{N} & \\frac{2}{N} & \\frac{2}{N} & \\frac{2}{N} & \\frac{2}{N} & \\frac{2}{N} & -1 + \\frac{2}{N} & \\frac{2}{N}\\\\\\frac{2}{N} & \\frac{2}{N} & \\frac{2}{N} & \\frac{2}{N} & \\frac{2}{N} & \\frac{2}{N} & \\frac{2}{N} & -1 + \\frac{2}{N}\\end{matrix}\\right]$"
      ],
      "text/plain": [
       "Matrix([\n",
       "[-1 + 2/N,      2/N,      2/N,      2/N,      2/N,      2/N,      2/N,      2/N],\n",
       "[     2/N, -1 + 2/N,      2/N,      2/N,      2/N,      2/N,      2/N,      2/N],\n",
       "[     2/N,      2/N, -1 + 2/N,      2/N,      2/N,      2/N,      2/N,      2/N],\n",
       "[     2/N,      2/N,      2/N, -1 + 2/N,      2/N,      2/N,      2/N,      2/N],\n",
       "[     2/N,      2/N,      2/N,      2/N, -1 + 2/N,      2/N,      2/N,      2/N],\n",
       "[     2/N,      2/N,      2/N,      2/N,      2/N, -1 + 2/N,      2/N,      2/N],\n",
       "[     2/N,      2/N,      2/N,      2/N,      2/N,      2/N, -1 + 2/N,      2/N],\n",
       "[     2/N,      2/N,      2/N,      2/N,      2/N,      2/N,      2/N, -1 + 2/N]])"
      ]
     },
     "execution_count": 8,
     "metadata": {},
     "output_type": "execute_result"
    }
   ],
   "source": [
    "U = 2*kpsi*bpsi\n",
    "U = qubit_to_matrix(U)-Matrix.eye(2**3)\n",
    "U"
   ]
  },
  {
   "cell_type": "code",
   "execution_count": 10,
   "metadata": {
    "collapsed": true
   },
   "outputs": [
    {
     "data": {
      "text/latex": [
       "$\\displaystyle \\left[\\begin{matrix}- \\frac{3}{4} & \\frac{1}{4} & \\frac{1}{4} & \\frac{1}{4} & \\frac{1}{4} & \\frac{1}{4} & \\frac{1}{4} & \\frac{1}{4}\\\\\\frac{1}{4} & - \\frac{3}{4} & \\frac{1}{4} & \\frac{1}{4} & \\frac{1}{4} & \\frac{1}{4} & \\frac{1}{4} & \\frac{1}{4}\\\\\\frac{1}{4} & \\frac{1}{4} & - \\frac{3}{4} & \\frac{1}{4} & \\frac{1}{4} & \\frac{1}{4} & \\frac{1}{4} & \\frac{1}{4}\\\\\\frac{1}{4} & \\frac{1}{4} & \\frac{1}{4} & - \\frac{3}{4} & \\frac{1}{4} & \\frac{1}{4} & \\frac{1}{4} & \\frac{1}{4}\\\\\\frac{1}{4} & \\frac{1}{4} & \\frac{1}{4} & \\frac{1}{4} & - \\frac{3}{4} & \\frac{1}{4} & \\frac{1}{4} & \\frac{1}{4}\\\\\\frac{1}{4} & \\frac{1}{4} & \\frac{1}{4} & \\frac{1}{4} & \\frac{1}{4} & - \\frac{3}{4} & \\frac{1}{4} & \\frac{1}{4}\\\\\\frac{1}{4} & \\frac{1}{4} & \\frac{1}{4} & \\frac{1}{4} & \\frac{1}{4} & \\frac{1}{4} & - \\frac{3}{4} & \\frac{1}{4}\\\\\\frac{1}{4} & \\frac{1}{4} & \\frac{1}{4} & \\frac{1}{4} & \\frac{1}{4} & \\frac{1}{4} & \\frac{1}{4} & - \\frac{3}{4}\\end{matrix}\\right]$"
      ],
      "text/plain": [
       "Matrix([\n",
       "[-3/4,  1/4,  1/4,  1/4,  1/4,  1/4,  1/4,  1/4],\n",
       "[ 1/4, -3/4,  1/4,  1/4,  1/4,  1/4,  1/4,  1/4],\n",
       "[ 1/4,  1/4, -3/4,  1/4,  1/4,  1/4,  1/4,  1/4],\n",
       "[ 1/4,  1/4,  1/4, -3/4,  1/4,  1/4,  1/4,  1/4],\n",
       "[ 1/4,  1/4,  1/4,  1/4, -3/4,  1/4,  1/4,  1/4],\n",
       "[ 1/4,  1/4,  1/4,  1/4,  1/4, -3/4,  1/4,  1/4],\n",
       "[ 1/4,  1/4,  1/4,  1/4,  1/4,  1/4, -3/4,  1/4],\n",
       "[ 1/4,  1/4,  1/4,  1/4,  1/4,  1/4,  1/4, -3/4]])"
      ]
     },
     "execution_count": 10,
     "metadata": {},
     "output_type": "execute_result"
    }
   ],
   "source": [
    "Hm = Matrix([[1,1],[1,-1]])\n",
    "Hc = 1/sqrt(2)\n",
    "\n",
    "H3 = Hc**3*kronecker_product(Hm,Hm,Hm)\n",
    "\n",
    "q000 = qubit_to_matrix(q[0])\n",
    "Ualt = H3*(2*q000*Dagger(q000)-Matrix.eye(8))*H3\n",
    "Ualt"
   ]
  },
  {
   "cell_type": "code",
   "execution_count": 91,
   "metadata": {},
   "outputs": [
    {
     "data": {
      "text/latex": [
       "$\\displaystyle \\frac{{\\left|000\\right\\rangle } + {\\left|001\\right\\rangle } + {\\left|010\\right\\rangle } - {\\left|011\\right\\rangle } + {\\left|100\\right\\rangle } + {\\left|101\\right\\rangle } + {\\left|110\\right\\rangle } + {\\left|111\\right\\rangle }}{\\sqrt{N}}$"
      ],
      "text/plain": [
       "(|000> + |001> + |010> - |011> + |100> + |101> + |110> + |111>)/sqrt(N)"
      ]
     },
     "execution_count": 91,
     "metadata": {},
     "output_type": "execute_result"
    }
   ],
   "source": [
    "kpsi.subs(Qubit(0,1,1),-Qubit(0,1,1))"
   ]
  },
  {
   "cell_type": "code",
   "execution_count": 37,
   "metadata": {},
   "outputs": [],
   "source": [
    "a = kpsi.expand()"
   ]
  },
  {
   "cell_type": "code",
   "execution_count": 38,
   "metadata": {},
   "outputs": [
    {
     "data": {
      "text/plain": [
       "(|000>/sqrt(N),\n",
       " |001>/sqrt(N),\n",
       " |010>/sqrt(N),\n",
       " |011>/sqrt(N),\n",
       " |100>/sqrt(N),\n",
       " |101>/sqrt(N),\n",
       " |110>/sqrt(N),\n",
       " |111>/sqrt(N))"
      ]
     },
     "execution_count": 38,
     "metadata": {},
     "output_type": "execute_result"
    }
   ],
   "source": [
    "a.args"
   ]
  },
  {
   "cell_type": "code",
   "execution_count": null,
   "metadata": {},
   "outputs": [],
   "source": []
  },
  {
   "cell_type": "code",
   "execution_count": null,
   "metadata": {},
   "outputs": [],
   "source": []
  }
 ],
 "metadata": {
  "kernelspec": {
   "display_name": "Python 3",
   "language": "python",
   "name": "python3"
  },
  "language_info": {
   "codemirror_mode": {
    "name": "ipython",
    "version": 3
   },
   "file_extension": ".py",
   "mimetype": "text/x-python",
   "name": "python",
   "nbconvert_exporter": "python",
   "pygments_lexer": "ipython3",
   "version": "3.8.1"
  }
 },
 "nbformat": 4,
 "nbformat_minor": 4
}

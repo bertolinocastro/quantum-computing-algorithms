{
 "cells": [
  {
   "cell_type": "code",
   "execution_count": 1,
   "metadata": {},
   "outputs": [],
   "source": [
    "# A Quantum Circuit to Construct All Maximal Cliques Using Grover’s Search Algorithm\n",
    "\n",
    "## Chu Ryang Wie\n",
    "\n",
    "### DOI: https://arxiv.org/abs/1711.06146v2"
   ]
  },
  {
   "cell_type": "code",
   "execution_count": 1,
   "metadata": {},
   "outputs": [],
   "source": [
    "from sympy import *\n",
    "#import sympy.physics.quantum as qp # quantum physics\n",
    "from sympy.physics.quantum.qubit import *\n",
    "from sympy.physics.quantum import Dagger, TensorProduct\n",
    "from sympy.physics.quantum.gate import *\n",
    "from sympy.physics.quantum.qapply import *"
   ]
  },
  {
   "cell_type": "code",
   "execution_count": 2,
   "metadata": {},
   "outputs": [],
   "source": [
    "N = Symbol('N', integer=True)\n",
    "#N = 8"
   ]
  },
  {
   "cell_type": "code",
   "execution_count": 3,
   "metadata": {},
   "outputs": [],
   "source": [
    "# base network G:\n",
    "# 1 <-> 2 <-> 3\n",
    "# Nodes: 1, 2, 3\n",
    "# Edges: (1,2), (2,3)\n",
    "\n",
    "# Adjacency matrix for network G\n",
    "A = Matrix([\n",
    "\t[0, 1, 0],\n",
    "\t[1, 0, 1],\n",
    "\t[0, 1, 0]\n",
    "])"
   ]
  },
  {
   "cell_type": "code",
   "execution_count": 4,
   "metadata": {},
   "outputs": [
    {
     "data": {
      "text/plain": [
       "[|000>, |001>, |010>, |011>, |100>, |101>, |110>, |111>]"
      ]
     },
     "execution_count": 4,
     "metadata": {},
     "output_type": "execute_result"
    }
   ],
   "source": [
    "# creating qubits for n=3 basis\n",
    "q = [Qubit(f'{dummy:03b}') for dummy in range(2**3)]\n",
    "q"
   ]
  },
  {
   "cell_type": "code",
   "execution_count": 5,
   "metadata": {},
   "outputs": [],
   "source": [
    "# creating psi state vector\n",
    "kpsi = 1/sqrt(N)*sum(q)\n",
    "bpsi = 1/sqrt(N)*Dagger(sum(q))"
   ]
  },
  {
   "cell_type": "code",
   "execution_count": 6,
   "metadata": {},
   "outputs": [],
   "source": [
    "# TODO: create in terms of matrices the O operator perfectly as the circuit described in the paper\n",
    "O = Matrix([\n",
    "    [1, 0, 0, 0, 0, 0, 0, 0],\n",
    "    [0, 1, 0, 0, 0, 0, 0, 0],\n",
    "    [0, 0, 1, 0, 0, 0, 0, 0],\n",
    "    [0, 0, 0,-1, 0, 0, 0, 0],\n",
    "    [0, 0, 0, 0, 1, 0, 0, 0],\n",
    "    [0, 0, 0, 0, 0, 1, 0, 0],\n",
    "    [0, 0, 0, 0, 0, 0,-1, 0],\n",
    "    [0, 0, 0, 0, 0, 0, 0, 1],\n",
    "])"
   ]
  },
  {
   "cell_type": "code",
   "execution_count": 7,
   "metadata": {},
   "outputs": [],
   "source": [
    "# step: constructing the U operator basics using a network with n=3\n",
    "# function to represent qubit as matrix: qubit_to_matrix()"
   ]
  },
  {
   "cell_type": "code",
   "execution_count": 8,
   "metadata": {},
   "outputs": [],
   "source": [
    "U = 2*kpsi*bpsi\n",
    "U = qubit_to_matrix(U)-Matrix.eye(2**3)\n",
    "\n",
    "Hm = Matrix([[1,1],[1,-1]])\n",
    "Hc = 1/sqrt(2)\n",
    "\n",
    "H3 = Hc**3*kronecker_product(Hm,Hm,Hm)\n",
    "\n",
    "q000 = qubit_to_matrix(q[0])\n",
    "Ualt = H3*(2*q000*Dagger(q000)-Matrix.eye(8))*H3"
   ]
  },
  {
   "cell_type": "code",
   "execution_count": 9,
   "metadata": {},
   "outputs": [],
   "source": [
    "def G(kpsi):\n",
    "    return matrix_to_qubit(U*O*qubit_to_matrix(kpsi))"
   ]
  },
  {
   "cell_type": "code",
   "execution_count": 10,
   "metadata": {},
   "outputs": [],
   "source": [
    "# working with a network made by two nodes\n",
    "# n = 2\n",
    "# Nodes: 0, 1\n",
    "# Edges: (0,1)\n",
    "A = Matrix([\n",
    "    [0,1],\n",
    "    [1,0]\n",
    "])\n",
    "\n",
    "# tentando reescrever as contas utilizando seno e cosseno\n",
    "theta = Symbol('theta')\n",
    "# creating psi state vector\n",
    "kpsi = sin(theta/2)*1/sqrt(1)*(Qubit(1,1)) + cos(theta/2)*1/sqrt(3)*(Qubit(0,0)+Qubit(0,1)+Qubit(1,0))\n",
    "bpsi = sin(theta/2)*1/sqrt(1)*Dagger(Qubit(1,1)) + cos(theta/2)*1/sqrt(3)*Dagger(Qubit(0,0)+Qubit(0,1)+Qubit(1,0))\n",
    "\n",
    "U = 2*kpsi*bpsi\n",
    "U = qubit_to_matrix(U)-Matrix.eye(2**2)\n",
    "\n",
    "O = Matrix([\n",
    "    [1, 0, 0, 0],\n",
    "    [0, 1, 0, 0],\n",
    "    [0, 0, 1, 0],\n",
    "    [0, 0, 0,-1]\n",
    "])"
   ]
  },
  {
   "cell_type": "code",
   "execution_count": 11,
   "metadata": {},
   "outputs": [],
   "source": [
    "# Creating Oracle based on paper algorithm\n",
    "def O_operator(ket):\n",
    "    \n",
    "    pass"
   ]
  },
  {
   "cell_type": "code",
   "execution_count": null,
   "metadata": {},
   "outputs": [],
   "source": []
  },
  {
   "cell_type": "code",
   "execution_count": null,
   "metadata": {},
   "outputs": [],
   "source": []
  },
  {
   "cell_type": "code",
   "execution_count": 4,
   "metadata": {},
   "outputs": [
    {
     "data": {
      "text/latex": [
       "$\\displaystyle \\left[\\begin{matrix}-1 & 0 & 0 & 0 & 0 & 0 & 0 & 0\\\\0 & 1 & 0 & 0 & 0 & 0 & 0 & 0\\\\0 & 0 & 1 & 0 & 0 & 0 & 0 & 0\\\\0 & 0 & 0 & 1 & 0 & 0 & 0 & 0\\\\0 & 0 & 0 & 0 & 1 & 0 & 0 & 0\\\\0 & 0 & 0 & 0 & 0 & 1 & 0 & 0\\\\0 & 0 & 0 & 0 & 0 & 0 & 1 & 0\\\\0 & 0 & 0 & 0 & 0 & 0 & 0 & 1\\end{matrix}\\right]$"
      ],
      "text/plain": [
       "Matrix([\n",
       "[-1, 0, 0, 0, 0, 0, 0, 0],\n",
       "[ 0, 1, 0, 0, 0, 0, 0, 0],\n",
       "[ 0, 0, 1, 0, 0, 0, 0, 0],\n",
       "[ 0, 0, 0, 1, 0, 0, 0, 0],\n",
       "[ 0, 0, 0, 0, 1, 0, 0, 0],\n",
       "[ 0, 0, 0, 0, 0, 1, 0, 0],\n",
       "[ 0, 0, 0, 0, 0, 0, 1, 0],\n",
       "[ 0, 0, 0, 0, 0, 0, 0, 1]])"
      ]
     },
     "execution_count": 4,
     "metadata": {},
     "output_type": "execute_result"
    }
   ],
   "source": [
    "# teste\n",
    "Matrix.eye(8) - 2 * qubit_to_matrix(Qubit(0,0,0)*Dagger(Qubit(0,0,0)))"
   ]
  },
  {
   "cell_type": "code",
   "execution_count": 30,
   "metadata": {},
   "outputs": [],
   "source": [
    "X = Matrix([\n",
    "    [0,1],\n",
    "    [1,0]\n",
    "])"
   ]
  },
  {
   "cell_type": "code",
   "execution_count": 6,
   "metadata": {},
   "outputs": [
    {
     "data": {
      "text/latex": [
       "$\\displaystyle \\left[\\begin{matrix}0 & 1\\\\1 & 0\\end{matrix}\\right]$"
      ],
      "text/plain": [
       "Matrix([\n",
       "[0, 1],\n",
       "[1, 0]])"
      ]
     },
     "execution_count": 6,
     "metadata": {},
     "output_type": "execute_result"
    }
   ],
   "source": [
    "X"
   ]
  },
  {
   "cell_type": "code",
   "execution_count": 7,
   "metadata": {},
   "outputs": [],
   "source": [
    "Z = Matrix([\n",
    "    [1,0],\n",
    "    [0,-1]\n",
    "])"
   ]
  },
  {
   "cell_type": "code",
   "execution_count": 36,
   "metadata": {},
   "outputs": [],
   "source": [
    "Tp = TensorProduct\n",
    "X3 = Tp(Tp(Matrix.eye(2),Matrix.eye(2)),X)"
   ]
  },
  {
   "cell_type": "code",
   "execution_count": 37,
   "metadata": {},
   "outputs": [],
   "source": [
    "Z3 = Matrix([\n",
    "    [1,0,0,0,0,0,0,0],\n",
    "    [0,-1,0,0,0,0,0,0],\n",
    "    [0,0,1,0,0,0,0,0],\n",
    "    [0,0,0,1,0,0,0,0],\n",
    "    [0,0,0,0,1,0,0,0],\n",
    "    [0,0,0,0,0,1,0,0],\n",
    "    [0,0,0,0,0,0,1,0],\n",
    "    [0,0,0,0,0,0,0,1],\n",
    "])"
   ]
  },
  {
   "cell_type": "code",
   "execution_count": 40,
   "metadata": {},
   "outputs": [
    {
     "data": {
      "text/latex": [
       "$\\displaystyle \\left[\\begin{matrix}-1 & 0 & 0 & 0 & 0 & 0 & 0 & 0\\\\0 & 1 & 0 & 0 & 0 & 0 & 0 & 0\\\\0 & 0 & 1 & 0 & 0 & 0 & 0 & 0\\\\0 & 0 & 0 & 1 & 0 & 0 & 0 & 0\\\\0 & 0 & 0 & 0 & 1 & 0 & 0 & 0\\\\0 & 0 & 0 & 0 & 0 & 1 & 0 & 0\\\\0 & 0 & 0 & 0 & 0 & 0 & 1 & 0\\\\0 & 0 & 0 & 0 & 0 & 0 & 0 & 1\\end{matrix}\\right]$"
      ],
      "text/plain": [
       "Matrix([\n",
       "[-1, 0, 0, 0, 0, 0, 0, 0],\n",
       "[ 0, 1, 0, 0, 0, 0, 0, 0],\n",
       "[ 0, 0, 1, 0, 0, 0, 0, 0],\n",
       "[ 0, 0, 0, 1, 0, 0, 0, 0],\n",
       "[ 0, 0, 0, 0, 1, 0, 0, 0],\n",
       "[ 0, 0, 0, 0, 0, 1, 0, 0],\n",
       "[ 0, 0, 0, 0, 0, 0, 1, 0],\n",
       "[ 0, 0, 0, 0, 0, 0, 0, 1]])"
      ]
     },
     "execution_count": 40,
     "metadata": {},
     "output_type": "execute_result"
    }
   ],
   "source": [
    "X3*Z3*X3"
   ]
  },
  {
   "cell_type": "code",
   "execution_count": 17,
   "metadata": {},
   "outputs": [],
   "source": [
    "a= H3*4/sqrt(2)"
   ]
  },
  {
   "cell_type": "code",
   "execution_count": 23,
   "metadata": {},
   "outputs": [],
   "source": [
    "p=sqrt(2)/4*a*Matrix([1,1,1,-1,1,1,-1,1])"
   ]
  },
  {
   "cell_type": "code",
   "execution_count": 28,
   "metadata": {},
   "outputs": [
    {
     "data": {
      "text/latex": [
       "$\\displaystyle \\left[\\begin{matrix}0\\\\0\\\\0\\\\\\sqrt{2}\\\\0\\\\0\\\\\\sqrt{2}\\\\0\\end{matrix}\\right]$"
      ],
      "text/plain": [
       "Matrix([\n",
       "[      0],\n",
       "[      0],\n",
       "[      0],\n",
       "[sqrt(2)],\n",
       "[      0],\n",
       "[      0],\n",
       "[sqrt(2)],\n",
       "[      0]])"
      ]
     },
     "execution_count": 28,
     "metadata": {},
     "output_type": "execute_result"
    }
   ],
   "source": [
    "sqrt(2)/4*a*Matrix([1,0,-1,0,0,-1,0,1])"
   ]
  },
  {
   "cell_type": "code",
   "execution_count": 16,
   "metadata": {},
   "outputs": [
    {
     "ename": "AttributeError",
     "evalue": "type object 'XGate' has no attribute 'as_matrix'",
     "output_type": "error",
     "traceback": [
      "\u001b[0;31m---------------------------------------------------------------------------\u001b[0m",
      "\u001b[0;31mAttributeError\u001b[0m                            Traceback (most recent call last)",
      "\u001b[0;32m<ipython-input-16-bea47491c329>\u001b[0m in \u001b[0;36m<module>\u001b[0;34m\u001b[0m\n\u001b[0;32m----> 1\u001b[0;31m \u001b[0mX\u001b[0m\u001b[0;34m.\u001b[0m\u001b[0mas_matrix\u001b[0m\u001b[0;34m(\u001b[0m\u001b[0;34m)\u001b[0m\u001b[0;34m\u001b[0m\u001b[0;34m\u001b[0m\u001b[0m\n\u001b[0m",
      "\u001b[0;31mAttributeError\u001b[0m: type object 'XGate' has no attribute 'as_matrix'"
     ]
    }
   ],
   "source": [
    "X.as_matrix()"
   ]
  },
  {
   "cell_type": "code",
   "execution_count": 2,
   "metadata": {},
   "outputs": [],
   "source": [
    "Tp = TensorProduct\n",
    "XX = Tp(Tp(Matrix([[0,1],[1,0]]),Matrix([[0,1],[1,0]])),Matrix([[0,1],[1,0]]))"
   ]
  },
  {
   "cell_type": "code",
   "execution_count": 3,
   "metadata": {},
   "outputs": [],
   "source": [
    "Z3 = Matrix([\n",
    "    [1,0,0,0,0,0,0,0],\n",
    "    [0,1,0,0,0,0,0,0],\n",
    "    [0,0,1,0,0,0,0,0],\n",
    "    [0,0,0,1,0,0,0,0],\n",
    "    [0,0,0,0,1,0,0,0],\n",
    "    [0,0,0,0,0,1,0,0],\n",
    "    [0,0,0,0,0,0,1,0],\n",
    "    [0,0,0,0,0,0,0,-1],\n",
    "])"
   ]
  },
  {
   "cell_type": "code",
   "execution_count": 32,
   "metadata": {},
   "outputs": [
    {
     "data": {
      "text/latex": [
       "$\\displaystyle \\left[\\begin{matrix}-1 & 0 & 0 & 0 & 0 & 0 & 0 & 0\\\\0 & 1 & 0 & 0 & 0 & 0 & 0 & 0\\\\0 & 0 & 1 & 0 & 0 & 0 & 0 & 0\\\\0 & 0 & 0 & 1 & 0 & 0 & 0 & 0\\\\0 & 0 & 0 & 0 & 1 & 0 & 0 & 0\\\\0 & 0 & 0 & 0 & 0 & 1 & 0 & 0\\\\0 & 0 & 0 & 0 & 0 & 0 & 1 & 0\\\\0 & 0 & 0 & 0 & 0 & 0 & 0 & 1\\end{matrix}\\right]$"
      ],
      "text/plain": [
       "Matrix([\n",
       "[-1, 0, 0, 0, 0, 0, 0, 0],\n",
       "[ 0, 1, 0, 0, 0, 0, 0, 0],\n",
       "[ 0, 0, 1, 0, 0, 0, 0, 0],\n",
       "[ 0, 0, 0, 1, 0, 0, 0, 0],\n",
       "[ 0, 0, 0, 0, 1, 0, 0, 0],\n",
       "[ 0, 0, 0, 0, 0, 1, 0, 0],\n",
       "[ 0, 0, 0, 0, 0, 0, 1, 0],\n",
       "[ 0, 0, 0, 0, 0, 0, 0, 1]])"
      ]
     },
     "execution_count": 32,
     "metadata": {},
     "output_type": "execute_result"
    }
   ],
   "source": [
    "XX*Z3*XX"
   ]
  },
  {
   "cell_type": "code",
   "execution_count": 35,
   "metadata": {},
   "outputs": [
    {
     "data": {
      "text/latex": [
       "$\\displaystyle \\left[\\begin{matrix}0 & 0 & 0 & 0 & 0 & 0 & 0 & -1\\\\0 & 0 & 0 & 0 & 0 & 0 & 1 & 0\\\\0 & 0 & 0 & 0 & 0 & 1 & 0 & 0\\\\0 & 0 & 0 & 0 & 1 & 0 & 0 & 0\\\\0 & 0 & 0 & 1 & 0 & 0 & 0 & 0\\\\0 & 0 & 1 & 0 & 0 & 0 & 0 & 0\\\\0 & 1 & 0 & 0 & 0 & 0 & 0 & 0\\\\1 & 0 & 0 & 0 & 0 & 0 & 0 & 0\\end{matrix}\\right]$"
      ],
      "text/plain": [
       "Matrix([\n",
       "[0, 0, 0, 0, 0, 0, 0, -1],\n",
       "[0, 0, 0, 0, 0, 0, 1,  0],\n",
       "[0, 0, 0, 0, 0, 1, 0,  0],\n",
       "[0, 0, 0, 0, 1, 0, 0,  0],\n",
       "[0, 0, 0, 1, 0, 0, 0,  0],\n",
       "[0, 0, 1, 0, 0, 0, 0,  0],\n",
       "[0, 1, 0, 0, 0, 0, 0,  0],\n",
       "[1, 0, 0, 0, 0, 0, 0,  0]])"
      ]
     },
     "execution_count": 35,
     "metadata": {},
     "output_type": "execute_result"
    }
   ],
   "source": [
    "XX*Z3\n"
   ]
  },
  {
   "cell_type": "code",
   "execution_count": 36,
   "metadata": {},
   "outputs": [
    {
     "data": {
      "text/latex": [
       "$\\displaystyle \\left[\\begin{matrix}0 & 0 & 0 & 0 & 0 & 0 & 0 & 1\\\\0 & 0 & 0 & 0 & 0 & 0 & 1 & 0\\\\0 & 0 & 0 & 0 & 0 & 1 & 0 & 0\\\\0 & 0 & 0 & 0 & 1 & 0 & 0 & 0\\\\0 & 0 & 0 & 1 & 0 & 0 & 0 & 0\\\\0 & 0 & 1 & 0 & 0 & 0 & 0 & 0\\\\0 & 1 & 0 & 0 & 0 & 0 & 0 & 0\\\\-1 & 0 & 0 & 0 & 0 & 0 & 0 & 0\\end{matrix}\\right]$"
      ],
      "text/plain": [
       "Matrix([\n",
       "[ 0, 0, 0, 0, 0, 0, 0, 1],\n",
       "[ 0, 0, 0, 0, 0, 0, 1, 0],\n",
       "[ 0, 0, 0, 0, 0, 1, 0, 0],\n",
       "[ 0, 0, 0, 0, 1, 0, 0, 0],\n",
       "[ 0, 0, 0, 1, 0, 0, 0, 0],\n",
       "[ 0, 0, 1, 0, 0, 0, 0, 0],\n",
       "[ 0, 1, 0, 0, 0, 0, 0, 0],\n",
       "[-1, 0, 0, 0, 0, 0, 0, 0]])"
      ]
     },
     "execution_count": 36,
     "metadata": {},
     "output_type": "execute_result"
    }
   ],
   "source": [
    "Z3*XX\n"
   ]
  },
  {
   "cell_type": "code",
   "execution_count": 5,
   "metadata": {},
   "outputs": [],
   "source": [
    "HH = Tp(Tp(Matrix([[1,1],[1,-1]]),Matrix([[1,1],[1,-1]])),Matrix([[1,1],[1,-1]]))"
   ]
  },
  {
   "cell_type": "code",
   "execution_count": 6,
   "metadata": {},
   "outputs": [
    {
     "data": {
      "text/latex": [
       "$\\displaystyle \\left[\\begin{matrix}1 & 1 & 1 & 1 & 1 & 1 & 1 & 1\\\\1 & -1 & 1 & -1 & 1 & -1 & 1 & -1\\\\1 & 1 & -1 & -1 & 1 & 1 & -1 & -1\\\\1 & -1 & -1 & 1 & 1 & -1 & -1 & 1\\\\1 & 1 & 1 & 1 & -1 & -1 & -1 & -1\\\\1 & -1 & 1 & -1 & -1 & 1 & -1 & 1\\\\1 & 1 & -1 & -1 & -1 & -1 & 1 & 1\\\\1 & -1 & -1 & 1 & -1 & 1 & 1 & -1\\end{matrix}\\right]$"
      ],
      "text/plain": [
       "Matrix([\n",
       "[1,  1,  1,  1,  1,  1,  1,  1],\n",
       "[1, -1,  1, -1,  1, -1,  1, -1],\n",
       "[1,  1, -1, -1,  1,  1, -1, -1],\n",
       "[1, -1, -1,  1,  1, -1, -1,  1],\n",
       "[1,  1,  1,  1, -1, -1, -1, -1],\n",
       "[1, -1,  1, -1, -1,  1, -1,  1],\n",
       "[1,  1, -1, -1, -1, -1,  1,  1],\n",
       "[1, -1, -1,  1, -1,  1,  1, -1]])"
      ]
     },
     "execution_count": 6,
     "metadata": {},
     "output_type": "execute_result"
    }
   ],
   "source": [
    "HH"
   ]
  },
  {
   "cell_type": "code",
   "execution_count": 8,
   "metadata": {},
   "outputs": [
    {
     "data": {
      "text/latex": [
       "$\\displaystyle \\left[\\begin{matrix}8 & 0 & 0 & 0 & 0 & 0 & 0 & 0\\\\0 & -8 & 0 & 0 & 0 & 0 & 0 & 0\\\\0 & 0 & -8 & 0 & 0 & 0 & 0 & 0\\\\0 & 0 & 0 & 8 & 0 & 0 & 0 & 0\\\\0 & 0 & 0 & 0 & -8 & 0 & 0 & 0\\\\0 & 0 & 0 & 0 & 0 & 8 & 0 & 0\\\\0 & 0 & 0 & 0 & 0 & 0 & 8 & 0\\\\0 & 0 & 0 & 0 & 0 & 0 & 0 & -8\\end{matrix}\\right]$"
      ],
      "text/plain": [
       "Matrix([\n",
       "[8,  0,  0, 0,  0, 0, 0,  0],\n",
       "[0, -8,  0, 0,  0, 0, 0,  0],\n",
       "[0,  0, -8, 0,  0, 0, 0,  0],\n",
       "[0,  0,  0, 8,  0, 0, 0,  0],\n",
       "[0,  0,  0, 0, -8, 0, 0,  0],\n",
       "[0,  0,  0, 0,  0, 8, 0,  0],\n",
       "[0,  0,  0, 0,  0, 0, 8,  0],\n",
       "[0,  0,  0, 0,  0, 0, 0, -8]])"
      ]
     },
     "execution_count": 8,
     "metadata": {},
     "output_type": "execute_result"
    }
   ],
   "source": [
    "HH*XX*HH"
   ]
  },
  {
   "cell_type": "code",
   "execution_count": 9,
   "metadata": {},
   "outputs": [],
   "source": [
    "CX = Matrix([\n",
    "    [1,0,0,0,0,0,0,0],\n",
    "    [0,1,0,0,0,0,0,0],\n",
    "    [0,0,1,0,0,0,0,0],\n",
    "    [0,0,0,1,0,0,0,0],\n",
    "    [0,0,0,0,1,0,0,0],\n",
    "    [0,0,0,0,0,1,0,0],\n",
    "    [0,0,0,0,0,0,0,1],\n",
    "    [0,0,0,0,0,0,1,0],\n",
    "])"
   ]
  },
  {
   "cell_type": "code",
   "execution_count": 27,
   "metadata": {},
   "outputs": [
    {
     "data": {
      "text/latex": [
       "$\\displaystyle \\left[\\begin{matrix}4 & 0 & 4 & 0 & 4 & 0 & -4 & 0\\\\0 & 8 & 0 & 0 & 0 & 0 & 0 & 0\\\\4 & 0 & 4 & 0 & -4 & 0 & 4 & 0\\\\0 & 0 & 0 & 8 & 0 & 0 & 0 & 0\\\\4 & 0 & -4 & 0 & 4 & 0 & 4 & 0\\\\0 & 0 & 0 & 0 & 0 & 8 & 0 & 0\\\\-4 & 0 & 4 & 0 & 4 & 0 & 4 & 0\\\\0 & 0 & 0 & 0 & 0 & 0 & 0 & 8\\end{matrix}\\right]$"
      ],
      "text/plain": [
       "Matrix([\n",
       "[ 4, 0,  4, 0,  4, 0, -4, 0],\n",
       "[ 0, 8,  0, 0,  0, 0,  0, 0],\n",
       "[ 4, 0,  4, 0, -4, 0,  4, 0],\n",
       "[ 0, 0,  0, 8,  0, 0,  0, 0],\n",
       "[ 4, 0, -4, 0,  4, 0,  4, 0],\n",
       "[ 0, 0,  0, 0,  0, 8,  0, 0],\n",
       "[-4, 0,  4, 0,  4, 0,  4, 0],\n",
       "[ 0, 0,  0, 0,  0, 0,  0, 8]])"
      ]
     },
     "execution_count": 27,
     "metadata": {},
     "output_type": "execute_result"
    }
   ],
   "source": [
    "XX*HH*CX*HH*XX"
   ]
  },
  {
   "cell_type": "code",
   "execution_count": 21,
   "metadata": {},
   "outputs": [
    {
     "data": {
      "text/latex": [
       "$\\displaystyle \\left[\\begin{matrix}-6 & 2 & 2 & 2 & 2 & 2 & 2 & 2\\\\2 & -6 & 2 & 2 & 2 & 2 & 2 & 2\\\\2 & 2 & -6 & 2 & 2 & 2 & 2 & 2\\\\2 & 2 & 2 & -6 & 2 & 2 & 2 & 2\\\\2 & 2 & 2 & 2 & -6 & 2 & 2 & 2\\\\2 & 2 & 2 & 2 & 2 & -6 & 2 & 2\\\\2 & 2 & 2 & 2 & 2 & 2 & -6 & 2\\\\2 & 2 & 2 & 2 & 2 & 2 & 2 & -6\\end{matrix}\\right]$"
      ],
      "text/plain": [
       "Matrix([\n",
       "[-6,  2,  2,  2,  2,  2,  2,  2],\n",
       "[ 2, -6,  2,  2,  2,  2,  2,  2],\n",
       "[ 2,  2, -6,  2,  2,  2,  2,  2],\n",
       "[ 2,  2,  2, -6,  2,  2,  2,  2],\n",
       "[ 2,  2,  2,  2, -6,  2,  2,  2],\n",
       "[ 2,  2,  2,  2,  2, -6,  2,  2],\n",
       "[ 2,  2,  2,  2,  2,  2, -6,  2],\n",
       "[ 2,  2,  2,  2,  2,  2,  2, -6]])"
      ]
     },
     "execution_count": 21,
     "metadata": {},
     "output_type": "execute_result"
    }
   ],
   "source": [
    "HH*(2*Matrix([1,0,0,0,0,0,0,0])*Dagger(Matrix([1,0,0,0,0,0,0,0]))-Matrix.eye(8))*HH"
   ]
  },
  {
   "cell_type": "code",
   "execution_count": 24,
   "metadata": {},
   "outputs": [],
   "source": [
    "CZ = Matrix([\n",
    "    [1,0,0,0,0,0,0,0],\n",
    "    [0,1,0,0,0,0,0,0],\n",
    "    [0,0,1,0,0,0,0,0],\n",
    "    [0,0,0,1,0,0,0,0],\n",
    "    [0,0,0,0,1,0,0,0],\n",
    "    [0,0,0,0,0,1,0,0],\n",
    "    [0,0,0,0,0,0,1,0],\n",
    "    [0,0,0,0,0,0,0,-1]\n",
    "])"
   ]
  },
  {
   "cell_type": "code",
   "execution_count": 26,
   "metadata": {},
   "outputs": [
    {
     "data": {
      "text/latex": [
       "$\\displaystyle \\left[\\begin{matrix}-1 & 0 & 0 & 0 & 0 & 0 & 0 & 0\\\\0 & 1 & 0 & 0 & 0 & 0 & 0 & 0\\\\0 & 0 & 1 & 0 & 0 & 0 & 0 & 0\\\\0 & 0 & 0 & 1 & 0 & 0 & 0 & 0\\\\0 & 0 & 0 & 0 & 1 & 0 & 0 & 0\\\\0 & 0 & 0 & 0 & 0 & 1 & 0 & 0\\\\0 & 0 & 0 & 0 & 0 & 0 & 1 & 0\\\\0 & 0 & 0 & 0 & 0 & 0 & 0 & 1\\end{matrix}\\right]$"
      ],
      "text/plain": [
       "Matrix([\n",
       "[-1, 0, 0, 0, 0, 0, 0, 0],\n",
       "[ 0, 1, 0, 0, 0, 0, 0, 0],\n",
       "[ 0, 0, 1, 0, 0, 0, 0, 0],\n",
       "[ 0, 0, 0, 1, 0, 0, 0, 0],\n",
       "[ 0, 0, 0, 0, 1, 0, 0, 0],\n",
       "[ 0, 0, 0, 0, 0, 1, 0, 0],\n",
       "[ 0, 0, 0, 0, 0, 0, 1, 0],\n",
       "[ 0, 0, 0, 0, 0, 0, 0, 1]])"
      ]
     },
     "execution_count": 26,
     "metadata": {},
     "output_type": "execute_result"
    }
   ],
   "source": [
    "XX*CZ*XX"
   ]
  },
  {
   "cell_type": "code",
   "execution_count": 29,
   "metadata": {},
   "outputs": [
    {
     "data": {
      "text/latex": [
       "$\\displaystyle \\left[\\begin{matrix}8 & 0 & 0 & 0 & 0 & 0 & 0 & 0\\\\0 & 4 & 0 & 4 & 0 & 4 & 0 & -4\\\\0 & 0 & 8 & 0 & 0 & 0 & 0 & 0\\\\0 & 4 & 0 & 4 & 0 & -4 & 0 & 4\\\\0 & 0 & 0 & 0 & 8 & 0 & 0 & 0\\\\0 & 4 & 0 & -4 & 0 & 4 & 0 & 4\\\\0 & 0 & 0 & 0 & 0 & 0 & 8 & 0\\\\0 & -4 & 0 & 4 & 0 & 4 & 0 & 4\\end{matrix}\\right]$"
      ],
      "text/plain": [
       "Matrix([\n",
       "[8,  0, 0,  0, 0,  0, 0,  0],\n",
       "[0,  4, 0,  4, 0,  4, 0, -4],\n",
       "[0,  0, 8,  0, 0,  0, 0,  0],\n",
       "[0,  4, 0,  4, 0, -4, 0,  4],\n",
       "[0,  0, 0,  0, 8,  0, 0,  0],\n",
       "[0,  4, 0, -4, 0,  4, 0,  4],\n",
       "[0,  0, 0,  0, 0,  0, 8,  0],\n",
       "[0, -4, 0,  4, 0,  4, 0,  4]])"
      ]
     },
     "execution_count": 29,
     "metadata": {},
     "output_type": "execute_result"
    }
   ],
   "source": [
    "HH*CX*HH"
   ]
  },
  {
   "cell_type": "code",
   "execution_count": 33,
   "metadata": {},
   "outputs": [
    {
     "data": {
      "text/latex": [
       "$\\displaystyle \\left[\\begin{matrix}6 & -2 & -2 & -2 & -2 & -2 & -2 & -2\\\\-2 & 6 & -2 & -2 & -2 & -2 & -2 & -2\\\\-2 & -2 & 6 & -2 & -2 & -2 & -2 & -2\\\\-2 & -2 & -2 & 6 & -2 & -2 & -2 & -2\\\\-2 & -2 & -2 & -2 & 6 & -2 & -2 & -2\\\\-2 & -2 & -2 & -2 & -2 & 6 & -2 & -2\\\\-2 & -2 & -2 & -2 & -2 & -2 & 6 & -2\\\\-2 & -2 & -2 & -2 & -2 & -2 & -2 & 6\\end{matrix}\\right]$"
      ],
      "text/plain": [
       "Matrix([\n",
       "[ 6, -2, -2, -2, -2, -2, -2, -2],\n",
       "[-2,  6, -2, -2, -2, -2, -2, -2],\n",
       "[-2, -2,  6, -2, -2, -2, -2, -2],\n",
       "[-2, -2, -2,  6, -2, -2, -2, -2],\n",
       "[-2, -2, -2, -2,  6, -2, -2, -2],\n",
       "[-2, -2, -2, -2, -2,  6, -2, -2],\n",
       "[-2, -2, -2, -2, -2, -2,  6, -2],\n",
       "[-2, -2, -2, -2, -2, -2, -2,  6]])"
      ]
     },
     "execution_count": 33,
     "metadata": {},
     "output_type": "execute_result"
    }
   ],
   "source": [
    "HH*XX*CZ*XX*HH"
   ]
  },
  {
   "cell_type": "code",
   "execution_count": 34,
   "metadata": {},
   "outputs": [
    {
     "data": {
      "text/latex": [
       "$\\displaystyle \\left[\\begin{matrix}1 & 0 & 0 & 0 & 0 & 0 & 0 & 0\\\\0 & 1 & 0 & 0 & 0 & 0 & 0 & 0\\\\0 & 0 & 1 & 0 & 0 & 0 & 0 & 0\\\\0 & 0 & 0 & 1 & 0 & 0 & 0 & 0\\\\0 & 0 & 0 & 0 & 1 & 0 & 0 & 0\\\\0 & 0 & 0 & 0 & 0 & 1 & 0 & 0\\\\0 & 0 & 0 & 0 & 0 & 0 & 1 & 0\\\\0 & 0 & 0 & 0 & 0 & 0 & 0 & -1\\end{matrix}\\right]$"
      ],
      "text/plain": [
       "Matrix([\n",
       "[1, 0, 0, 0, 0, 0, 0,  0],\n",
       "[0, 1, 0, 0, 0, 0, 0,  0],\n",
       "[0, 0, 1, 0, 0, 0, 0,  0],\n",
       "[0, 0, 0, 1, 0, 0, 0,  0],\n",
       "[0, 0, 0, 0, 1, 0, 0,  0],\n",
       "[0, 0, 0, 0, 0, 1, 0,  0],\n",
       "[0, 0, 0, 0, 0, 0, 1,  0],\n",
       "[0, 0, 0, 0, 0, 0, 0, -1]])"
      ]
     },
     "execution_count": 34,
     "metadata": {},
     "output_type": "execute_result"
    }
   ],
   "source": [
    "CZ"
   ]
  },
  {
   "cell_type": "code",
   "execution_count": 36,
   "metadata": {},
   "outputs": [
    {
     "data": {
      "text/latex": [
       "$\\displaystyle \\left[\\begin{matrix}1 & 0 & 0 & 0 & 0 & 0 & 0 & 0\\\\0 & 1 & 0 & 0 & 0 & 0 & 0 & 0\\\\0 & 0 & 1 & 0 & 0 & 0 & 0 & 0\\\\0 & 0 & 0 & 1 & 0 & 0 & 0 & 0\\\\0 & 0 & 0 & 0 & 1 & 0 & 0 & 0\\\\0 & 0 & 0 & 0 & 0 & 1 & 0 & 0\\\\0 & 0 & 0 & 0 & 0 & 0 & 0 & 1\\\\0 & 0 & 0 & 0 & 0 & 0 & 1 & 0\\end{matrix}\\right]$"
      ],
      "text/plain": [
       "Matrix([\n",
       "[1, 0, 0, 0, 0, 0, 0, 0],\n",
       "[0, 1, 0, 0, 0, 0, 0, 0],\n",
       "[0, 0, 1, 0, 0, 0, 0, 0],\n",
       "[0, 0, 0, 1, 0, 0, 0, 0],\n",
       "[0, 0, 0, 0, 1, 0, 0, 0],\n",
       "[0, 0, 0, 0, 0, 1, 0, 0],\n",
       "[0, 0, 0, 0, 0, 0, 0, 1],\n",
       "[0, 0, 0, 0, 0, 0, 1, 0]])"
      ]
     },
     "execution_count": 36,
     "metadata": {},
     "output_type": "execute_result"
    }
   ],
   "source": [
    "CX"
   ]
  },
  {
   "cell_type": "code",
   "execution_count": 47,
   "metadata": {},
   "outputs": [
    {
     "data": {
      "text/latex": [
       "$\\displaystyle \\left[\\begin{matrix}1 & 1 & 0 & 0 & 0 & 0 & 0 & 0\\\\1 & -1 & 0 & 0 & 0 & 0 & 0 & 0\\\\0 & 0 & 1 & 1 & 0 & 0 & 0 & 0\\\\0 & 0 & 1 & -1 & 0 & 0 & 0 & 0\\\\0 & 0 & 0 & 0 & 1 & 1 & 0 & 0\\\\0 & 0 & 0 & 0 & 1 & -1 & 0 & 0\\\\0 & 0 & 0 & 0 & 0 & 0 & 1 & 1\\\\0 & 0 & 0 & 0 & 0 & 0 & 1 & -1\\end{matrix}\\right]$"
      ],
      "text/plain": [
       "Matrix([\n",
       "[1,  1, 0,  0, 0,  0, 0,  0],\n",
       "[1, -1, 0,  0, 0,  0, 0,  0],\n",
       "[0,  0, 1,  1, 0,  0, 0,  0],\n",
       "[0,  0, 1, -1, 0,  0, 0,  0],\n",
       "[0,  0, 0,  0, 1,  1, 0,  0],\n",
       "[0,  0, 0,  0, 1, -1, 0,  0],\n",
       "[0,  0, 0,  0, 0,  0, 1,  1],\n",
       "[0,  0, 0,  0, 0,  0, 1, -1]])"
      ]
     },
     "execution_count": 47,
     "metadata": {},
     "output_type": "execute_result"
    }
   ],
   "source": [
    "H3 = kronecker_product(Matrix.eye(2),Matrix.eye(2),Matrix([[1,1],[1,-1]]))\n",
    "H3"
   ]
  },
  {
   "cell_type": "code",
   "execution_count": 58,
   "metadata": {},
   "outputs": [
    {
     "data": {
      "text/latex": [
       "$\\displaystyle \\left[\\begin{matrix}12 & -4 & -4 & -4 & -4 & -4 & -4 & -4\\\\-4 & 12 & -4 & -4 & -4 & -4 & -4 & -4\\\\-4 & -4 & 12 & -4 & -4 & -4 & -4 & -4\\\\-4 & -4 & -4 & 12 & -4 & -4 & -4 & -4\\\\-4 & -4 & -4 & -4 & 12 & -4 & -4 & -4\\\\-4 & -4 & -4 & -4 & -4 & 12 & -4 & -4\\\\-4 & -4 & -4 & -4 & -4 & -4 & 12 & -4\\\\-4 & -4 & -4 & -4 & -4 & -4 & -4 & 12\\end{matrix}\\right]$"
      ],
      "text/plain": [
       "Matrix([\n",
       "[12, -4, -4, -4, -4, -4, -4, -4],\n",
       "[-4, 12, -4, -4, -4, -4, -4, -4],\n",
       "[-4, -4, 12, -4, -4, -4, -4, -4],\n",
       "[-4, -4, -4, 12, -4, -4, -4, -4],\n",
       "[-4, -4, -4, -4, 12, -4, -4, -4],\n",
       "[-4, -4, -4, -4, -4, 12, -4, -4],\n",
       "[-4, -4, -4, -4, -4, -4, 12, -4],\n",
       "[-4, -4, -4, -4, -4, -4, -4, 12]])"
      ]
     },
     "execution_count": 58,
     "metadata": {},
     "output_type": "execute_result"
    }
   ],
   "source": [
    "HH*XX*H3*CX*H3*XX*HH"
   ]
  },
  {
   "cell_type": "code",
   "execution_count": null,
   "metadata": {},
   "outputs": [],
   "source": []
  }
 ],
 "metadata": {
  "kernelspec": {
   "display_name": "Python 3",
   "language": "python",
   "name": "python3"
  },
  "language_info": {
   "codemirror_mode": {
    "name": "ipython",
    "version": 3
   },
   "file_extension": ".py",
   "mimetype": "text/x-python",
   "name": "python",
   "nbconvert_exporter": "python",
   "pygments_lexer": "ipython3",
   "version": "3.8.1"
  }
 },
 "nbformat": 4,
 "nbformat_minor": 4
}
